{
 "cells": [
  {
   "cell_type": "code",
   "execution_count": 9,
   "metadata": {},
   "outputs": [
    {
     "name": "stdout",
     "output_type": "stream",
     "text": [
      "['The ']\n"
     ]
    }
   ],
   "source": [
    "# findall return all occurance\n",
    "import re\n",
    "txt='The rain in spain Then'\n",
    "x=re.findall(r\"\\bT\\w+\\s\\b\",txt)\n",
    "print((x))"
   ]
  },
  {
   "cell_type": "code",
   "execution_count": 12,
   "metadata": {},
   "outputs": [
    {
     "name": "stdout",
     "output_type": "stream",
     "text": [
      "The \n"
     ]
    }
   ],
   "source": [
    "# search return firt occurance\n",
    "import re\n",
    "txt='The rain in spain Then'\n",
    "x=re.search(r\"\\bT\\w+\\s\\b\",txt)\n",
    "print(x.group())"
   ]
  },
  {
   "cell_type": "code",
   "execution_count": 15,
   "metadata": {},
   "outputs": [
    {
     "name": "stdout",
     "output_type": "stream",
     "text": [
      "None\n"
     ]
    }
   ],
   "source": [
    "import re\n",
    "txt='black blue green blow'\n",
    "x=re.search(r\"\\bT\\w+\",txt)\n",
    "print(x)"
   ]
  },
  {
   "cell_type": "code",
   "execution_count": 21,
   "metadata": {},
   "outputs": [
    {
     "name": "stdout",
     "output_type": "stream",
     "text": [
      "['black blue green blow']\n"
     ]
    }
   ],
   "source": [
    "import re\n",
    "txt='black blue green blow'\n",
    "x=re.split(r\"bl\",txt)\n",
    "print(x)"
   ]
  },
  {
   "cell_type": "code",
   "execution_count": 23,
   "metadata": {},
   "outputs": [
    {
     "name": "stdout",
     "output_type": "stream",
     "text": [
      "vishal10ack vishal10ue green vishal10ow\n"
     ]
    }
   ],
   "source": [
    "import re\n",
    "txt='black blue green blow'\n",
    "x=re.sub(r\"bl\",'vishal10',txt)\n",
    "print(x)"
   ]
  },
  {
   "cell_type": "code",
   "execution_count": 28,
   "metadata": {},
   "outputs": [
    {
     "name": "stdout",
     "output_type": "stream",
     "text": [
      "['llo, ', 'How ', 'are ', 'you?']\n"
     ]
    }
   ],
   "source": [
    "import re\n",
    "txt='Hello, How are you?'\n",
    "x=re.findall(r\"\\w{3}\\W+\",txt)\n",
    "print(x)"
   ]
  },
  {
   "cell_type": "code",
   "execution_count": 70,
   "metadata": {
    "scrolled": false
   },
   "outputs": [
    {
     "data": {
      "text/plain": [
       "<matplotlib.collections.PathCollection at 0x2495e9e73a0>"
      ]
     },
     "execution_count": 70,
     "metadata": {},
     "output_type": "execute_result"
    },
    {
     "data": {
      "image/png": "[encoded data removed]",
      "text/plain": [
       "<Figure size 432x288 with 1 Axes>"
      ]
     },
     "metadata": {
      "needs_background": "light"
     },
     "output_type": "display_data"
    }
   ],
   "source": [
    "import pandas as pd\n",
    "import numpy as np\n",
    "import seaborn as sns\n",
    "import matplotlib.pyplot as plt\n",
    "df=pd.read_csv('CSV/train.csv')\n",
    "# #1.\n",
    "# print(df.describe())\n",
    "# #2.\n",
    "# print(df.isna().sum())\n",
    "# #3.\n",
    "# df=df.dropna()\n",
    "# #4.\n",
    "# print(df.describe(exclude=np.number))\n",
    "# #5.\n",
    "# sns.heatmap(data=df.corr(),annot=True,vmax=0.8,vmin=0.2,cmap='tab20',linewidths=2,linecolor='red')\n",
    "# #6.\n",
    "# plt.scatter(df.Fare,df.Survived)\n",
    "# #7.\n",
    "# c=pd.crosstab(df['Sex'],df['Survived'])\n",
    "# print(c)\n",
    "# sns.heatmap(data=c,annot=True,cmap='tab20')\n",
    "#8.\n",
    "# pd.plotting.parallel_coordinates(df,'Survived',cols=['Pclass','Fare','Age'])\n",
    "#9.\n",
    "# sns.regplot(x=df.Age,y=df.Fare)\n",
    "# plt.show()\n",
    "#10.\n",
    "# pd.plotting.scatter_matrix(df[['Fare','Age','Survived']])\n",
    "#11.\n",
    "# pd.crosstab(df.Sex,df.Survived,margins=True,normalize=True)\n",
    "#12.\n",
    "# plt.boxplot(df[['PassengerId','Survived','Pclass','Age','SibSp','Parch','Fare']])\n",
    "# plt.show()\n",
    "#13.\n",
    "#17.\n",
    "plt.scatter(df.Age,df.Fare)"
   ]
  }
 ],
 "metadata": {
  "kernelspec": {
   "display_name": "Python 3",
   "language": "python",
   "name": "python3"
  },
  "language_info": {
   "codemirror_mode": {
    "name": "ipython",
    "version": 3
   },
   "file_extension": ".py",
   "mimetype": "text/x-python",
   "name": "python",
   "nbconvert_exporter": "python",
   "pygments_lexer": "ipython3",
   "version": "3.8.5"
  }
 },
 "nbformat": 4,
 "nbformat_minor": 4
}
