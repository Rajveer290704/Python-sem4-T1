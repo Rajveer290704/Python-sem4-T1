{
 "cells": [
  {
   "cell_type": "code",
   "execution_count": 101,
   "metadata": {},
   "outputs": [
    {
     "data": {
      "image/png": "[encoded data removed]",
      "text/plain": [
       "<Figure size 432x288 with 1 Axes>"
      ]
     },
     "metadata": {
      "needs_background": "light"
     },
     "output_type": "display_data"
    }
   ],
   "source": [
    "import pandas as pd\n",
    "import numpy as np\n",
    "import matplotlib.pyplot as plt\n",
    "df=pd.read_csv(\"./CSV/auto-mpg.csv\")\n",
    "df.describe(include=\"object\")\n",
    "(df.horsepower == \"?\").sum()\n",
    "df[df['horsepower']=='?']\n",
    "\n",
    "\n",
    "df[df.isna()].sum()\n",
    "df[df.duplicated()]\n",
    "df=df.drop(df[df[\"horsepower\"] == \"?\"].index,axis=0)\n",
    "(df.horsepower == \"?\").sum()\n",
    "\n",
    "\n",
    "df.nunique()\n",
    "\n",
    "\n",
    "df.value_counts().sum()\n",
    "df.origin.value_counts()\n",
    "df[['cylinders','origin']].value_counts()\n",
    "df['horsepower']=df['horsepower'].astype('int64')\n",
    "df['horsepower']\n",
    "\n",
    "\n",
    "df.corr()\n",
    "# pd.plotting.scatter_matrix(df,figsize=(20,20))\n",
    "# pd.plotting.parallel_coordinates(df,'origin',cols=['acceleration','mpg','horsepower','cylinders'],color=['red','green','blue','yellow','pink'])\n",
    "# plt.boxplot(df[['horsepower','origin','acceleration','displacement']])\n",
    "plt.show()\n",
    "\n",
    "q1=df['acceleration'].quantile(0.25)\n",
    "q3=df['acceleration'].quantile(0.75)\n",
    "iqr=q3-q1\n",
    "lower_bound=q1-1.5*iqr\n",
    "upper_bound=q3+1.5*iqr\n",
    "df=df[(df[\"acceleration\"] <lower_bound)|(df[\"acceleration\"] >upper_bound)]\n",
    "plt.boxplot(df['acceleration'])\n",
    "plt.show()"
   ]
  },
  {
   "cell_type": "code",
   "execution_count": 126,
   "metadata": {
    "scrolled": true
   },
   "outputs": [
    {
     "name": "stdout",
     "output_type": "stream",
     "text": [
      "col_0                      sex\n",
      "sex region education vote     \n",
      "F   C      P         A       5\n",
      "                     N      22\n",
      "                     U      41\n",
      "                     Y      56\n",
      "           PS        A       1\n",
      "...                        ...\n",
      "M   SA     PS        Y      33\n",
      "           S         A      13\n",
      "                     N      93\n",
      "                     U      40\n",
      "                     Y      51\n",
      "\n",
      "[114 rows x 1 columns]\n"
     ]
    }
   ],
   "source": [
    "import pandas as pd\n",
    "import numpy as np\n",
    "import matplotlib.pyplot as plt\n",
    "df=pd.read_csv(\"./CSV/chile.csv\")\n",
    "# df=df.dropna()\n",
    "# pd.crosstab(df['sex'],df['education'],values=df['income'],aggfunc={min,max,np.mean})\n",
    "c=pd.crosstab([df['sex'],df['region'],df['education'],df['vote']],columns=['sex'])\n",
    "print(c)"
   ]
  },
  {
   "cell_type": "code",
   "execution_count": 108,
   "metadata": {},
   "outputs": [
    {
     "name": "stdout",
     "output_type": "stream",
     "text": [
      "Help on function crosstab in module pandas.core.reshape.pivot:\n",
      "\n",
      "crosstab(index, columns, values=None, rownames=None, colnames=None, aggfunc=None, margins=False, margins_name: str = 'All', dropna: bool = True, normalize=False) -> 'DataFrame'\n",
      "    Compute a simple cross tabulation of two (or more) factors. By default\n",
      "    computes a frequency table of the factors unless an array of values and an\n",
      "    aggregation function are passed.\n",
      "    \n",
      "    Parameters\n",
      "    ----------\n",
      "    index : array-like, Series, or list of arrays/Series\n",
      "        Values to group by in the rows.\n",
      "    columns : array-like, Series, or list of arrays/Series\n",
      "        Values to group by in the columns.\n",
      "    values : array-like, optional\n",
      "        Array of values to aggregate according to the factors.\n",
      "        Requires `aggfunc` be specified.\n",
      "    rownames : sequence, default None\n",
      "        If passed, must match number of row arrays passed.\n",
      "    colnames : sequence, default None\n",
      "        If passed, must match number of column arrays passed.\n",
      "    aggfunc : function, optional\n",
      "        If specified, requires `values` be specified as well.\n",
      "    margins : bool, default False\n",
      "        Add row/column margins (subtotals).\n",
      "    margins_name : str, default 'All'\n",
      "        Name of the row/column that will contain the totals\n",
      "        when margins is True.\n",
      "    dropna : bool, default True\n",
      "        Do not include columns whose entries are all NaN.\n",
      "    normalize : bool, {'all', 'index', 'columns'}, or {0,1}, default False\n",
      "        Normalize by dividing all values by the sum of values.\n",
      "    \n",
      "        - If passed 'all' or `True`, will normalize over all values.\n",
      "        - If passed 'index' will normalize over each row.\n",
      "        - If passed 'columns' will normalize over each column.\n",
      "        - If margins is `True`, will also normalize margin values.\n",
      "    \n",
      "    Returns\n",
      "    -------\n",
      "    DataFrame\n",
      "        Cross tabulation of the data.\n",
      "    \n",
      "    See Also\n",
      "    --------\n",
      "    DataFrame.pivot : Reshape data based on column values.\n",
      "    pivot_table : Create a pivot table as a DataFrame.\n",
      "    \n",
      "    Notes\n",
      "    -----\n",
      "    Any Series passed will have their name attributes used unless row or column\n",
      "    names for the cross-tabulation are specified.\n",
      "    \n",
      "    Any input passed containing Categorical data will have **all** of its\n",
      "    categories included in the cross-tabulation, even if the actual data does\n",
      "    not contain any instances of a particular category.\n",
      "    \n",
      "    In the event that there aren't overlapping indexes an empty DataFrame will\n",
      "    be returned.\n",
      "    \n",
      "    Examples\n",
      "    --------\n",
      "    >>> a = np.array([\"foo\", \"foo\", \"foo\", \"foo\", \"bar\", \"bar\",\n",
      "    ...               \"bar\", \"bar\", \"foo\", \"foo\", \"foo\"], dtype=object)\n",
      "    >>> b = np.array([\"one\", \"one\", \"one\", \"two\", \"one\", \"one\",\n",
      "    ...               \"one\", \"two\", \"two\", \"two\", \"one\"], dtype=object)\n",
      "    >>> c = np.array([\"dull\", \"dull\", \"shiny\", \"dull\", \"dull\", \"shiny\",\n",
      "    ...               \"shiny\", \"dull\", \"shiny\", \"shiny\", \"shiny\"],\n",
      "    ...              dtype=object)\n",
      "    >>> pd.crosstab(a, [b, c], rownames=['a'], colnames=['b', 'c'])\n",
      "    b   one        two\n",
      "    c   dull shiny dull shiny\n",
      "    a\n",
      "    bar    1     2    1     0\n",
      "    foo    2     2    1     2\n",
      "    \n",
      "    Here 'c' and 'f' are not represented in the data and will not be\n",
      "    shown in the output because dropna is True by default. Set\n",
      "    dropna=False to preserve categories with no data.\n",
      "    \n",
      "    >>> foo = pd.Categorical(['a', 'b'], categories=['a', 'b', 'c'])\n",
      "    >>> bar = pd.Categorical(['d', 'e'], categories=['d', 'e', 'f'])\n",
      "    >>> pd.crosstab(foo, bar)\n",
      "    col_0  d  e\n",
      "    row_0\n",
      "    a      1  0\n",
      "    b      0  1\n",
      "    >>> pd.crosstab(foo, bar, dropna=False)\n",
      "    col_0  d  e  f\n",
      "    row_0\n",
      "    a      1  0  0\n",
      "    b      0  1  0\n",
      "    c      0  0  0\n",
      "\n"
     ]
    }
   ],
   "source": [
    "help(pd.crosstab)"
   ]
  }
 ],
 "metadata": {
  "kernelspec": {
   "display_name": "Python 3",
   "language": "python",
   "name": "python3"
  },
  "language_info": {
   "codemirror_mode": {
    "name": "ipython",
    "version": 3
   },
   "file_extension": ".py",
   "mimetype": "text/x-python",
   "name": "python",
   "nbconvert_exporter": "python",
   "pygments_lexer": "ipython3",
   "version": "3.8.5"
  }
 },
 "nbformat": 4,
 "nbformat_minor": 4
}
