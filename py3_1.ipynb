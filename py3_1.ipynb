{
 "cells": [
  {
   "cell_type": "markdown",
   "metadata": {},
   "source": [
    "[]==> set of char\n",
    "\\ ==> special sequence\n",
    ". ==> any char\n",
    "^ ==> start\n",
    "$ ==> end\n",
    "* ==> zero or more occurance\n",
    "+ ==> one or more\n",
    "? ==> zero or one\n",
    "{y} ==> specific \n",
    "| ==> either or\n",
    "() ==> group"
   ]
  },
  {
   "cell_type": "code",
   "execution_count": 21,
   "metadata": {},
   "outputs": [
    {
     "name": "stdout",
     "output_type": "stream",
     "text": [
      "[' r', ' s']\n"
     ]
    }
   ],
   "source": [
    "import re\n",
    "txt='The rain in spain'\n",
    "x=re.findall(r\"[a-n,' '][o-z]\",txt)\n",
    "print((x))"
   ]
  },
  {
   "cell_type": "code",
   "execution_count": 19,
   "metadata": {},
   "outputs": [
    {
     "name": "stdout",
     "output_type": "stream",
     "text": [
      "[' r', 'in', 'in', ' s', 'in']\n"
     ]
    }
   ],
   "source": [
    "import re\n",
    "txt='The rain in spain'\n",
    "x=re.findall(r\"[a-m,' '][n-z]\",txt)\n",
    "print((x))"
   ]
  },
  {
   "cell_type": "code",
   "execution_count": 22,
   "metadata": {},
   "outputs": [
    {
     "name": "stdout",
     "output_type": "stream",
     "text": [
      "['sp']\n"
     ]
    }
   ],
   "source": [
    "import re\n",
    "txt='The rain in spain'\n",
    "x=re.findall(r\"[^a-m,' '][n-z]\",txt)\n",
    "print((x))"
   ]
  },
  {
   "cell_type": "code",
   "execution_count": 24,
   "metadata": {},
   "outputs": [
    {
     "name": "stdout",
     "output_type": "stream",
     "text": [
      "['12', '45']\n"
     ]
    }
   ],
   "source": [
    "import re\n",
    "txt='The rain 123 in 45 spain'\n",
    "x=re.findall(r\"[0-9][0-9]\",txt)\n",
    "print((x))"
   ]
  },
  {
   "cell_type": "code",
   "execution_count": 25,
   "metadata": {},
   "outputs": [
    {
     "name": "stdout",
     "output_type": "stream",
     "text": [
      "['Th']\n"
     ]
    }
   ],
   "source": [
    "import re\n",
    "txt='The rain in spain'\n",
    "x=re.findall(r\"^Th\",txt)\n",
    "print((x))"
   ]
  },
  {
   "cell_type": "code",
   "execution_count": 26,
   "metadata": {},
   "outputs": [
    {
     "name": "stdout",
     "output_type": "stream",
     "text": [
      "['n']\n"
     ]
    }
   ],
   "source": [
    "import re\n",
    "txt='The rain in spain'\n",
    "x=re.findall(r\"n$\",txt)\n",
    "print((x))"
   ]
  },
  {
   "cell_type": "code",
   "execution_count": 29,
   "metadata": {},
   "outputs": [
    {
     "name": "stdout",
     "output_type": "stream",
     "text": [
      "['hello helo heo he o']\n"
     ]
    }
   ],
   "source": [
    "import re\n",
    "txt='hello helo heo he o'\n",
    "x=re.findall(r\"h.*o\",txt)\n",
    "print((x))"
   ]
  },
  {
   "cell_type": "code",
   "execution_count": 31,
   "metadata": {},
   "outputs": [
    {
     "name": "stdout",
     "output_type": "stream",
     "text": [
      "['heo']\n"
     ]
    }
   ],
   "source": [
    "import re\n",
    "txt='hello helo heo he o'\n",
    "x=re.findall(r\"h.?o\",txt)\n",
    "print((x))"
   ]
  },
  {
   "cell_type": "code",
   "execution_count": 32,
   "metadata": {},
   "outputs": [
    {
     "name": "stdout",
     "output_type": "stream",
     "text": [
      "['hello', 'helo', 'helllo']\n"
     ]
    }
   ],
   "source": [
    "import re\n",
    "txt='hello helo heo he helllo'\n",
    "x=re.findall(r\"h.{2,4}o\",txt)\n",
    "print((x))"
   ]
  },
  {
   "cell_type": "code",
   "execution_count": 33,
   "metadata": {},
   "outputs": [
    {
     "name": "stdout",
     "output_type": "stream",
     "text": [
      "['hello', 'heo']\n"
     ]
    }
   ],
   "source": [
    "import re\n",
    "txt='hello helo heo he helllo'\n",
    "x=re.findall(r\"heo|hello\",txt)\n",
    "print((x))"
   ]
  },
  {
   "cell_type": "code",
   "execution_count": 55,
   "metadata": {},
   "outputs": [
    {
     "name": "stdout",
     "output_type": "stream",
     "text": [
      "['8866290704']\n"
     ]
    }
   ],
   "source": [
    "import re\n",
    "txt='8866290704'\n",
    "x=re.findall(r\"[789]\\d{9}\",txt)\n",
    "print((x))"
   ]
  },
  {
   "cell_type": "code",
   "execution_count": null,
   "metadata": {},
   "outputs": [],
   "source": [
    "import re\n",
    "txt='8866290704'\n",
    "x=re.findall(r\"[789]\\d{9}\",txt)\n",
    "print((x))"
   ]
  }
 ],
 "metadata": {
  "kernelspec": {
   "display_name": "Python 3",
   "language": "python",
   "name": "python3"
  },
  "language_info": {
   "codemirror_mode": {
    "name": "ipython",
    "version": 3
   },
   "file_extension": ".py",
   "mimetype": "text/x-python",
   "name": "python",
   "nbconvert_exporter": "python",
   "pygments_lexer": "ipython3",
   "version": "3.8.5"
  }
 },
 "nbformat": 4,
 "nbformat_minor": 4
}
