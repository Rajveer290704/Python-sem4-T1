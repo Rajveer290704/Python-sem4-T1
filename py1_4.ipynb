{
 "cells": [
  {
   "cell_type": "code",
   "execution_count": 47,
   "metadata": {},
   "outputs": [
    {
     "name": "stdout",
     "output_type": "stream",
     "text": [
      "                           Team  Match played        Win   Home win   Away win\n",
      "0              Rajasthan Royals           190  50.526316  55.056180  46.534653\n",
      "1   Royal Challengers Bangalore           223  48.878924  49.593496  48.000000\n",
      "2           Sunrisers Hyderabad           152  49.342105  52.173913  46.987952\n",
      "3                Delhi Capitals           222  46.396396  46.902655  45.871560\n",
      "4           Chennai Super Kings           208  58.173077  58.558559  57.731959\n",
      "5                Gujarat Titans            16  75.000000  57.142857  88.888889\n",
      "6          Lucknow Super Giants            15  60.000000  87.500000  28.571429\n",
      "7         Kolkata Knight Riders           223  51.121076  53.333333  49.152542\n",
      "8                  Punjab Kings           218  46.330275  45.454545  47.222222\n",
      "9                Mumbai Indians           231  56.709957  58.035714  55.462185\n",
      "10       Rising Pune Supergiant            16  62.500000  71.428571  55.555556\n",
      "11                Gujarat Lions            30  43.333333  31.250000  57.142857\n",
      "12      Rising Pune Supergiants            14  35.714286  28.571429  42.857143\n",
      "13                Pune Warriors            45  26.666667  26.086957  27.272727\n",
      "14              Deccan Chargers            75  38.666667  33.333333  44.444444\n",
      "15         Kochi Tuskers Kerala            14  42.857143  42.857143  42.857143\n"
     ]
    }
   ],
   "source": [
    "import pandas as pd\n",
    "df=pd.read_csv('./CSV/ipl-matches.csv')\n",
    "df.nunique()\n",
    "changed_name={'Delhi Daredevils':'Delhi Capitals','Kings XI Punjab':'Punjab Kings','Rising Pune Supergaints':'Rising Pune Supergaint'}\n",
    "df=df.replace(changed_name.keys(),changed_name.values())\n",
    "df=df.dropna(subset=['WinningTeam'])\n",
    "\n",
    "teams=df.Team1.unique()\n",
    "new_df=pd.DataFrame()\n",
    "data=[]\n",
    "for team in teams:\n",
    "    played=df[(df.Team1==team)|(df.Team2==team)].shape[0]\n",
    "    win=df[df.WinningTeam==team].shape[0]\n",
    "    home_win=(df[(df.WinningTeam==team) & (df.Team1==team)].shape[0]/ df[df.Team1==team].shape[0])*100   \n",
    "    away_win=(df[(df.WinningTeam==team) & (df.Team2==team)].shape[0]/df[df.Team2==team].shape[0])*100\n",
    "    data.append([team,played,(win/played)*100,home_win,away_win])\n",
    "new_df[['Team','Match played','Win','Home win','Away win']]=data\n",
    "print(new_df)"
   ]
  },
  {
   "cell_type": "code",
   "execution_count": 68,
   "metadata": {
    "scrolled": true
   },
   "outputs": [
    {
     "name": "stdout",
     "output_type": "stream",
     "text": [
      "                           Team  Match played  Win  Points\n",
      "0              Rajasthan Royals            17   10      20\n",
      "1   Royal Challengers Bangalore            16    9      18\n",
      "2           Sunrisers Hyderabad            14    6      12\n",
      "3                Delhi Capitals            14    7      14\n",
      "4           Chennai Super Kings            14    4       8\n",
      "5                Gujarat Titans            16   12      24\n",
      "6          Lucknow Super Giants            15    9      18\n",
      "7         Kolkata Knight Riders            14    6      12\n",
      "8                  Punjab Kings            14    7      14\n",
      "9                Mumbai Indians            14    4       8\n",
      "10              Kings XI Punjab             0    0       0\n",
      "11             Delhi Daredevils             0    0       0\n",
      "12       Rising Pune Supergiant             0    0       0\n",
      "13                Gujarat Lions             0    0       0\n",
      "14      Rising Pune Supergiants             0    0       0\n",
      "15                Pune Warriors             0    0       0\n",
      "16              Deccan Chargers             0    0       0\n",
      "17         Kochi Tuskers Kerala             0    0       0\n"
     ]
    }
   ],
   "source": [
    "import pandas as pd\n",
    "df=pd.read_csv('./CSV/ipl-matches.csv')\n",
    "df=df.dropna(subset=['WinningTeam'])\n",
    "\n",
    "teams=df.Team1.unique()\n",
    "new_df=pd.DataFrame()\n",
    "data=[]\n",
    "for team in teams:\n",
    "    t=df[(df.Team1==team) & (df.Season=='2022')]\n",
    "    played=df[((df.Team1==team)|(df.Team2==team)) & (df.Season=='2022')].shape[0]\n",
    "    win=df[(df.WinningTeam==team) & (df.Season=='2022')].shape[0]\n",
    "    point=win * 2\n",
    "    data.append([team,played,win,point])\n",
    "new_df[['Team','Match played','Win','Points']]=data\n",
    "print(new_df)"
   ]
  },
  {
   "cell_type": "code",
   "execution_count": 117,
   "metadata": {},
   "outputs": [
    {
     "ename": "ValueError",
     "evalue": "values cannot be used without an aggfunc.",
     "output_type": "error",
     "traceback": [
      "\u001b[1;31m---------------------------------------------------------------------------\u001b[0m",
      "\u001b[1;31mValueError\u001b[0m                                Traceback (most recent call last)",
      "\u001b[1;32m<ipython-input-117-f675a68e772e>\u001b[0m in \u001b[0;36m<module>\u001b[1;34m\u001b[0m\n\u001b[0;32m     18\u001b[0m \u001b[0mlabels\u001b[0m\u001b[1;33m=\u001b[0m\u001b[1;33m[\u001b[0m\u001b[1;34m'Child'\u001b[0m\u001b[1;33m,\u001b[0m\u001b[1;34m'Teenager'\u001b[0m\u001b[1;33m,\u001b[0m\u001b[1;34m'Young Adult'\u001b[0m\u001b[1;33m,\u001b[0m\u001b[1;34m'Adult'\u001b[0m\u001b[1;33m,\u001b[0m\u001b[1;34m'Senior'\u001b[0m\u001b[1;33m]\u001b[0m\u001b[1;33m\u001b[0m\u001b[1;33m\u001b[0m\u001b[0m\n\u001b[0;32m     19\u001b[0m \u001b[0mdf\u001b[0m\u001b[1;33m[\u001b[0m\u001b[1;34m'AgeGroup'\u001b[0m\u001b[1;33m]\u001b[0m\u001b[1;33m=\u001b[0m\u001b[0mpd\u001b[0m\u001b[1;33m.\u001b[0m\u001b[0mcut\u001b[0m\u001b[1;33m(\u001b[0m\u001b[0mdf\u001b[0m\u001b[1;33m[\u001b[0m\u001b[1;34m'Age'\u001b[0m\u001b[1;33m]\u001b[0m\u001b[1;33m,\u001b[0m\u001b[0mbins\u001b[0m\u001b[1;33m=\u001b[0m\u001b[0mbins\u001b[0m\u001b[1;33m,\u001b[0m\u001b[0mlabels\u001b[0m\u001b[1;33m=\u001b[0m\u001b[0mlabels\u001b[0m\u001b[1;33m)\u001b[0m\u001b[1;33m\u001b[0m\u001b[1;33m\u001b[0m\u001b[0m\n\u001b[1;32m---> 20\u001b[1;33m \u001b[0mpd\u001b[0m\u001b[1;33m.\u001b[0m\u001b[0mcrosstab\u001b[0m\u001b[1;33m(\u001b[0m\u001b[0mdf\u001b[0m\u001b[1;33m[\u001b[0m\u001b[1;34m'AgeGroup'\u001b[0m\u001b[1;33m]\u001b[0m\u001b[1;33m,\u001b[0m\u001b[0mdf\u001b[0m\u001b[1;33m[\u001b[0m\u001b[1;34m'Sex'\u001b[0m\u001b[1;33m]\u001b[0m\u001b[1;33m,\u001b[0m\u001b[0mdf\u001b[0m\u001b[1;33m[\u001b[0m\u001b[1;34m'Survived'\u001b[0m\u001b[1;33m]\u001b[0m\u001b[1;33m)\u001b[0m\u001b[1;33m\u001b[0m\u001b[1;33m\u001b[0m\u001b[0m\n\u001b[0m",
      "\u001b[1;32mC:\\ProgramData\\Anaconda3\\lib\\site-packages\\pandas\\core\\reshape\\pivot.py\u001b[0m in \u001b[0;36mcrosstab\u001b[1;34m(index, columns, values, rownames, colnames, aggfunc, margins, margins_name, dropna, normalize)\u001b[0m\n\u001b[0;32m    600\u001b[0m \u001b[1;33m\u001b[0m\u001b[0m\n\u001b[0;32m    601\u001b[0m     \u001b[1;32mif\u001b[0m \u001b[0mvalues\u001b[0m \u001b[1;32mis\u001b[0m \u001b[1;32mnot\u001b[0m \u001b[1;32mNone\u001b[0m \u001b[1;32mand\u001b[0m \u001b[0maggfunc\u001b[0m \u001b[1;32mis\u001b[0m \u001b[1;32mNone\u001b[0m\u001b[1;33m:\u001b[0m\u001b[1;33m\u001b[0m\u001b[1;33m\u001b[0m\u001b[0m\n\u001b[1;32m--> 602\u001b[1;33m         \u001b[1;32mraise\u001b[0m \u001b[0mValueError\u001b[0m\u001b[1;33m(\u001b[0m\u001b[1;34m\"values cannot be used without an aggfunc.\"\u001b[0m\u001b[1;33m)\u001b[0m\u001b[1;33m\u001b[0m\u001b[1;33m\u001b[0m\u001b[0m\n\u001b[0m\u001b[0;32m    603\u001b[0m \u001b[1;33m\u001b[0m\u001b[0m\n\u001b[0;32m    604\u001b[0m     \u001b[1;32mfrom\u001b[0m \u001b[0mpandas\u001b[0m \u001b[1;32mimport\u001b[0m \u001b[0mDataFrame\u001b[0m\u001b[1;33m\u001b[0m\u001b[1;33m\u001b[0m\u001b[0m\n",
      "\u001b[1;31mValueError\u001b[0m: values cannot be used without an aggfunc."
     ]
    }
   ],
   "source": [
    "import pandas as pd\n",
    "import numpy as np\n",
    "df=pd.read_csv('./CSV/train.csv')\n",
    "ch={0:'Died',1:'Survived'}\n",
    "df['Survived']=df['Survived'].replace(ch.keys(),ch.values())\n",
    "\n",
    "c_cabin=df['Cabin'].astype('str')\n",
    "c_cabin=np.array([Cabin [0] for Cabin in c_cabin])\n",
    "new_cabin=pd.Categorical(c_cabin)\n",
    "\n",
    "\n",
    "new_cabin.describe()\n",
    "df['Cabin']=new_cabin\n",
    "df\n",
    "\n",
    "df['Age']=df['Age'].fillna(df['Age'].mean())\n",
    "bins=[0,12,18,30,50,100]\n",
    "labels=['Child','Teenager','Young Adult','Adult','Senior']\n",
    "df['AgeGroup']=pd.cut(df['Age'],bins=bins,labels=labels)\n",
    "pd.crosstab(df['AgeGroup'],df['Sex'],df['Survived'])"
   ]
  }
 ],
 "metadata": {
  "kernelspec": {
   "display_name": "Python 3",
   "language": "python",
   "name": "python3"
  },
  "language_info": {
   "codemirror_mode": {
    "name": "ipython",
    "version": 3
   },
   "file_extension": ".py",
   "mimetype": "text/x-python",
   "name": "python",
   "nbconvert_exporter": "python",
   "pygments_lexer": "ipython3",
   "version": "3.8.5"
  }
 },
 "nbformat": 4,
 "nbformat_minor": 4
}
